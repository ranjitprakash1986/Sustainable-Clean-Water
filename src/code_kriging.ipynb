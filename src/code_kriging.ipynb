{
 "cells": [
  {
   "cell_type": "code",
   "execution_count": 1,
   "id": "60c3bdff-b7c0-41eb-9ba3-434bf26a4549",
   "metadata": {},
   "outputs": [
    {
     "name": "stderr",
     "output_type": "stream",
     "text": [
      "C:\\Users\\ranji\\AppData\\Local\\Temp\\ipykernel_2612\\3304814055.py:8: UserWarning: Shapely 2.0 is installed, but because PyGEOS is also installed, GeoPandas will still use PyGEOS by default for now. To force to use and test Shapely 2.0, you have to set the environment variable USE_PYGEOS=0. You can do this before starting the Python process, or in your code before importing geopandas:\n",
      "\n",
      "import os\n",
      "os.environ['USE_PYGEOS'] = '0'\n",
      "import geopandas\n",
      "\n",
      "In a future release, GeoPandas will switch to using Shapely by default. If you are using PyGEOS directly (calling PyGEOS functions on geometries from GeoPandas), this will then stop working and you are encouraged to migrate from PyGEOS to Shapely 2.0 (https://shapely.readthedocs.io/en/latest/migration_pygeos.html).\n",
      "  import geopandas as gpd\n"
     ]
    }
   ],
   "source": [
    "# imports\n",
    "\n",
    "import warnings\n",
    "import pandas as pd\n",
    "import numpy as np\n",
    "import scipy\n",
    "from scipy.interpolate import NearestNDInterpolator\n",
    "import geopandas as gpd\n",
    "import matplotlib.pyplot as plt\n",
    "import GPUtil\n",
    "\n",
    "from pykrige.ok import OrdinaryKriging\n",
    "from skgstat import Variogram\n",
    "import plotly.express as px\n",
    "import plotly.io as pio\n",
    "pio.renderers.default='iframe'"
   ]
  },
  {
   "cell_type": "code",
   "execution_count": 2,
   "id": "67fdffca-cbad-4895-9e71-c8c6bd9ded16",
   "metadata": {},
   "outputs": [],
   "source": [
    "df_train = pd.read_csv(\"data/bizinnovate-2023/train.csv\")\n",
    "df_test = pd.read_csv(\"data/bizinnovate-2023/test_masked.csv\")"
   ]
  },
  {
   "cell_type": "code",
   "execution_count": 3,
   "id": "02dd87e1-11ba-4155-ada2-d1d53c078dae",
   "metadata": {},
   "outputs": [
    {
     "data": {
      "text/html": [
       "<div>\n",
       "<style scoped>\n",
       "    .dataframe tbody tr th:only-of-type {\n",
       "        vertical-align: middle;\n",
       "    }\n",
       "\n",
       "    .dataframe tbody tr th {\n",
       "        vertical-align: top;\n",
       "    }\n",
       "\n",
       "    .dataframe thead th {\n",
       "        text-align: right;\n",
       "    }\n",
       "</style>\n",
       "<table border=\"1\" class=\"dataframe\">\n",
       "  <thead>\n",
       "    <tr style=\"text-align: right;\">\n",
       "      <th></th>\n",
       "      <th>DHSID_EA</th>\n",
       "      <th>cname</th>\n",
       "      <th>year</th>\n",
       "      <th>lat</th>\n",
       "      <th>lon</th>\n",
       "      <th>n_asset</th>\n",
       "      <th>asset_index</th>\n",
       "      <th>n_water</th>\n",
       "      <th>water_index</th>\n",
       "      <th>cluster_id</th>\n",
       "      <th>adm1dhs</th>\n",
       "      <th>urban</th>\n",
       "      <th>path</th>\n",
       "    </tr>\n",
       "  </thead>\n",
       "  <tbody>\n",
       "    <tr>\n",
       "      <th>0</th>\n",
       "      <td>IA-2015-7-00010004</td>\n",
       "      <td>IA</td>\n",
       "      <td>2015</td>\n",
       "      <td>9.165413</td>\n",
       "      <td>92.742696</td>\n",
       "      <td>22.0</td>\n",
       "      <td>2.650768</td>\n",
       "      <td>22.0</td>\n",
       "      <td>5.000000</td>\n",
       "      <td>10004</td>\n",
       "      <td>1</td>\n",
       "      <td>R</td>\n",
       "      <td>dhs_train/IA-2015-7-00010004.npz</td>\n",
       "    </tr>\n",
       "    <tr>\n",
       "      <th>1</th>\n",
       "      <td>IA-2015-7-00010005</td>\n",
       "      <td>IA</td>\n",
       "      <td>2015</td>\n",
       "      <td>8.307356</td>\n",
       "      <td>93.093792</td>\n",
       "      <td>22.0</td>\n",
       "      <td>2.157784</td>\n",
       "      <td>22.0</td>\n",
       "      <td>5.000000</td>\n",
       "      <td>10005</td>\n",
       "      <td>1</td>\n",
       "      <td>R</td>\n",
       "      <td>dhs_train/IA-2015-7-00010005.npz</td>\n",
       "    </tr>\n",
       "    <tr>\n",
       "      <th>2</th>\n",
       "      <td>IA-2015-7-00010007</td>\n",
       "      <td>IA</td>\n",
       "      <td>2015</td>\n",
       "      <td>7.016968</td>\n",
       "      <td>93.893226</td>\n",
       "      <td>21.0</td>\n",
       "      <td>1.832751</td>\n",
       "      <td>21.0</td>\n",
       "      <td>4.619048</td>\n",
       "      <td>10007</td>\n",
       "      <td>1</td>\n",
       "      <td>R</td>\n",
       "      <td>dhs_train/IA-2015-7-00010007.npz</td>\n",
       "    </tr>\n",
       "    <tr>\n",
       "      <th>3</th>\n",
       "      <td>IA-2015-7-00010016</td>\n",
       "      <td>IA</td>\n",
       "      <td>2015</td>\n",
       "      <td>9.194938</td>\n",
       "      <td>92.800432</td>\n",
       "      <td>22.0</td>\n",
       "      <td>2.746096</td>\n",
       "      <td>22.0</td>\n",
       "      <td>5.000000</td>\n",
       "      <td>10016</td>\n",
       "      <td>1</td>\n",
       "      <td>R</td>\n",
       "      <td>dhs_train/IA-2015-7-00010016.npz</td>\n",
       "    </tr>\n",
       "    <tr>\n",
       "      <th>4</th>\n",
       "      <td>IA-2015-7-00010018</td>\n",
       "      <td>IA</td>\n",
       "      <td>2015</td>\n",
       "      <td>8.055606</td>\n",
       "      <td>93.543892</td>\n",
       "      <td>22.0</td>\n",
       "      <td>2.581869</td>\n",
       "      <td>22.0</td>\n",
       "      <td>5.000000</td>\n",
       "      <td>10018</td>\n",
       "      <td>1</td>\n",
       "      <td>R</td>\n",
       "      <td>dhs_train/IA-2015-7-00010018.npz</td>\n",
       "    </tr>\n",
       "  </tbody>\n",
       "</table>\n",
       "</div>"
      ],
      "text/plain": [
       "             DHSID_EA cname  year       lat        lon  n_asset  asset_index  \\\n",
       "0  IA-2015-7-00010004    IA  2015  9.165413  92.742696     22.0     2.650768   \n",
       "1  IA-2015-7-00010005    IA  2015  8.307356  93.093792     22.0     2.157784   \n",
       "2  IA-2015-7-00010007    IA  2015  7.016968  93.893226     21.0     1.832751   \n",
       "3  IA-2015-7-00010016    IA  2015  9.194938  92.800432     22.0     2.746096   \n",
       "4  IA-2015-7-00010018    IA  2015  8.055606  93.543892     22.0     2.581869   \n",
       "\n",
       "   n_water  water_index  cluster_id  adm1dhs urban  \\\n",
       "0     22.0     5.000000       10004        1     R   \n",
       "1     22.0     5.000000       10005        1     R   \n",
       "2     21.0     4.619048       10007        1     R   \n",
       "3     22.0     5.000000       10016        1     R   \n",
       "4     22.0     5.000000       10018        1     R   \n",
       "\n",
       "                               path  \n",
       "0  dhs_train/IA-2015-7-00010004.npz  \n",
       "1  dhs_train/IA-2015-7-00010005.npz  \n",
       "2  dhs_train/IA-2015-7-00010007.npz  \n",
       "3  dhs_train/IA-2015-7-00010016.npz  \n",
       "4  dhs_train/IA-2015-7-00010018.npz  "
      ]
     },
     "execution_count": 3,
     "metadata": {},
     "output_type": "execute_result"
    }
   ],
   "source": [
    "df_train.head()"
   ]
  },
  {
   "cell_type": "code",
   "execution_count": 4,
   "id": "6a469b23-566a-4f33-a293-6c6d3e40edd7",
   "metadata": {},
   "outputs": [],
   "source": [
    "# Read the feature data\n",
    "column_names = [\"lat\", \"lon\", \"n_asset\", \"asset_index\", \"sobel_pca1\", \"sobel_pca2\", \"sobel_pca3\"]\n",
    "X_train = pd.read_csv(\"features_extracted_from_cloud/feature_train.csv\", names = column_names, header=0)\n",
    "X_test = pd.read_csv(\"features_extracted_from_cloud/feature_test.csv\", names = column_names, header = 0)\n",
    "\n",
    "y_train = df_train[\"water_index\"]\n"
   ]
  },
  {
   "cell_type": "code",
   "execution_count": 5,
   "id": "10555584-22b7-41bf-8498-0d5ad6c8dca1",
   "metadata": {},
   "outputs": [
    {
     "data": {
      "text/html": [
       "<div>\n",
       "<style scoped>\n",
       "    .dataframe tbody tr th:only-of-type {\n",
       "        vertical-align: middle;\n",
       "    }\n",
       "\n",
       "    .dataframe tbody tr th {\n",
       "        vertical-align: top;\n",
       "    }\n",
       "\n",
       "    .dataframe thead th {\n",
       "        text-align: right;\n",
       "    }\n",
       "</style>\n",
       "<table border=\"1\" class=\"dataframe\">\n",
       "  <thead>\n",
       "    <tr style=\"text-align: right;\">\n",
       "      <th></th>\n",
       "      <th>lat</th>\n",
       "      <th>lon</th>\n",
       "      <th>n_asset</th>\n",
       "      <th>asset_index</th>\n",
       "      <th>sobel_pca1</th>\n",
       "      <th>sobel_pca2</th>\n",
       "      <th>sobel_pca3</th>\n",
       "    </tr>\n",
       "  </thead>\n",
       "  <tbody>\n",
       "    <tr>\n",
       "      <th>0</th>\n",
       "      <td>9.165413</td>\n",
       "      <td>92.742696</td>\n",
       "      <td>22.0</td>\n",
       "      <td>2.650768</td>\n",
       "      <td>-207.802754</td>\n",
       "      <td>-2.021971</td>\n",
       "      <td>-1.862787</td>\n",
       "    </tr>\n",
       "    <tr>\n",
       "      <th>1</th>\n",
       "      <td>8.307356</td>\n",
       "      <td>93.093792</td>\n",
       "      <td>22.0</td>\n",
       "      <td>2.157784</td>\n",
       "      <td>-196.246327</td>\n",
       "      <td>-60.889409</td>\n",
       "      <td>-23.256221</td>\n",
       "    </tr>\n",
       "    <tr>\n",
       "      <th>2</th>\n",
       "      <td>7.016968</td>\n",
       "      <td>93.893226</td>\n",
       "      <td>21.0</td>\n",
       "      <td>1.832751</td>\n",
       "      <td>-168.521367</td>\n",
       "      <td>-6.896665</td>\n",
       "      <td>-7.399880</td>\n",
       "    </tr>\n",
       "    <tr>\n",
       "      <th>3</th>\n",
       "      <td>9.194938</td>\n",
       "      <td>92.800432</td>\n",
       "      <td>22.0</td>\n",
       "      <td>2.746096</td>\n",
       "      <td>-131.789259</td>\n",
       "      <td>-40.208361</td>\n",
       "      <td>12.582586</td>\n",
       "    </tr>\n",
       "    <tr>\n",
       "      <th>4</th>\n",
       "      <td>8.055606</td>\n",
       "      <td>93.543892</td>\n",
       "      <td>22.0</td>\n",
       "      <td>2.581869</td>\n",
       "      <td>-204.735020</td>\n",
       "      <td>25.329997</td>\n",
       "      <td>9.203700</td>\n",
       "    </tr>\n",
       "  </tbody>\n",
       "</table>\n",
       "</div>"
      ],
      "text/plain": [
       "        lat        lon  n_asset  asset_index  sobel_pca1  sobel_pca2  \\\n",
       "0  9.165413  92.742696     22.0     2.650768 -207.802754   -2.021971   \n",
       "1  8.307356  93.093792     22.0     2.157784 -196.246327  -60.889409   \n",
       "2  7.016968  93.893226     21.0     1.832751 -168.521367   -6.896665   \n",
       "3  9.194938  92.800432     22.0     2.746096 -131.789259  -40.208361   \n",
       "4  8.055606  93.543892     22.0     2.581869 -204.735020   25.329997   \n",
       "\n",
       "   sobel_pca3  \n",
       "0   -1.862787  \n",
       "1  -23.256221  \n",
       "2   -7.399880  \n",
       "3   12.582586  \n",
       "4    9.203700  "
      ]
     },
     "execution_count": 5,
     "metadata": {},
     "output_type": "execute_result"
    }
   ],
   "source": [
    "X_train.head()"
   ]
  },
  {
   "cell_type": "code",
   "execution_count": 6,
   "id": "1b1d402b-cdda-4d52-9684-a78c98eabb76",
   "metadata": {},
   "outputs": [
    {
     "data": {
      "text/html": [
       "<div>\n",
       "<style scoped>\n",
       "    .dataframe tbody tr th:only-of-type {\n",
       "        vertical-align: middle;\n",
       "    }\n",
       "\n",
       "    .dataframe tbody tr th {\n",
       "        vertical-align: top;\n",
       "    }\n",
       "\n",
       "    .dataframe thead th {\n",
       "        text-align: right;\n",
       "    }\n",
       "</style>\n",
       "<table border=\"1\" class=\"dataframe\">\n",
       "  <thead>\n",
       "    <tr style=\"text-align: right;\">\n",
       "      <th></th>\n",
       "      <th>lat</th>\n",
       "      <th>lon</th>\n",
       "      <th>n_asset</th>\n",
       "      <th>asset_index</th>\n",
       "      <th>sobel_pca1</th>\n",
       "      <th>sobel_pca2</th>\n",
       "      <th>sobel_pca3</th>\n",
       "    </tr>\n",
       "  </thead>\n",
       "  <tbody>\n",
       "    <tr>\n",
       "      <th>0</th>\n",
       "      <td>9.220903</td>\n",
       "      <td>92.781530</td>\n",
       "      <td>22.0</td>\n",
       "      <td>2.721812</td>\n",
       "      <td>-163.192395</td>\n",
       "      <td>-57.373432</td>\n",
       "      <td>-20.640230</td>\n",
       "    </tr>\n",
       "    <tr>\n",
       "      <th>1</th>\n",
       "      <td>7.028410</td>\n",
       "      <td>93.883430</td>\n",
       "      <td>20.0</td>\n",
       "      <td>2.287279</td>\n",
       "      <td>-167.549476</td>\n",
       "      <td>-12.247468</td>\n",
       "      <td>-7.414882</td>\n",
       "    </tr>\n",
       "    <tr>\n",
       "      <th>2</th>\n",
       "      <td>12.371448</td>\n",
       "      <td>92.783665</td>\n",
       "      <td>22.0</td>\n",
       "      <td>0.677109</td>\n",
       "      <td>-178.859001</td>\n",
       "      <td>23.990939</td>\n",
       "      <td>-43.986372</td>\n",
       "    </tr>\n",
       "    <tr>\n",
       "      <th>3</th>\n",
       "      <td>11.727304</td>\n",
       "      <td>92.719257</td>\n",
       "      <td>21.0</td>\n",
       "      <td>1.793683</td>\n",
       "      <td>-170.345962</td>\n",
       "      <td>43.655670</td>\n",
       "      <td>-23.180276</td>\n",
       "    </tr>\n",
       "    <tr>\n",
       "      <th>4</th>\n",
       "      <td>9.185310</td>\n",
       "      <td>92.777645</td>\n",
       "      <td>22.0</td>\n",
       "      <td>2.758168</td>\n",
       "      <td>-170.971692</td>\n",
       "      <td>-32.816367</td>\n",
       "      <td>19.304890</td>\n",
       "    </tr>\n",
       "  </tbody>\n",
       "</table>\n",
       "</div>"
      ],
      "text/plain": [
       "         lat        lon  n_asset  asset_index  sobel_pca1  sobel_pca2  \\\n",
       "0   9.220903  92.781530     22.0     2.721812 -163.192395  -57.373432   \n",
       "1   7.028410  93.883430     20.0     2.287279 -167.549476  -12.247468   \n",
       "2  12.371448  92.783665     22.0     0.677109 -178.859001   23.990939   \n",
       "3  11.727304  92.719257     21.0     1.793683 -170.345962   43.655670   \n",
       "4   9.185310  92.777645     22.0     2.758168 -170.971692  -32.816367   \n",
       "\n",
       "   sobel_pca3  \n",
       "0  -20.640230  \n",
       "1   -7.414882  \n",
       "2  -43.986372  \n",
       "3  -23.180276  \n",
       "4   19.304890  "
      ]
     },
     "execution_count": 6,
     "metadata": {},
     "output_type": "execute_result"
    }
   ],
   "source": [
    "X_test.head()"
   ]
  },
  {
   "cell_type": "code",
   "execution_count": 7,
   "id": "81536996-0f3e-4dad-9b0d-46ab2bcfe80d",
   "metadata": {},
   "outputs": [
    {
     "data": {
      "text/html": [
       "<iframe\n",
       "    scrolling=\"no\"\n",
       "    width=\"100%\"\n",
       "    height=\"545px\"\n",
       "    src=\"iframe_figures/figure_7.html\"\n",
       "    frameborder=\"0\"\n",
       "    allowfullscreen\n",
       "></iframe>\n"
      ]
     },
     "metadata": {},
     "output_type": "display_data"
    }
   ],
   "source": [
    "# Lets visualize the lat and lon for fun from the training dataframe\n",
    "\n",
    "fig = px.scatter_mapbox(df_train, \n",
    "                        lat = \"lat\",\n",
    "                        lon = \"lon\",\n",
    "                        color=\"water_index\",\n",
    "                        size=\"water_index\",\n",
    "                        color_continuous_scale=\"RdYlGn_r\",\n",
    "                        zoom=3.5,\n",
    "                        mapbox_style=\"carto-positron\", hover_name=\"water_index\")\n",
    "fig.update_layout(margin=dict(l=0, r=0, t=30, b=10))"
   ]
  },
  {
   "cell_type": "code",
   "execution_count": 8,
   "id": "cbb866c1-eec0-49e2-98bb-fffb18d969fd",
   "metadata": {},
   "outputs": [],
   "source": [
    "gdf_X_train = (gpd.GeoDataFrame(X_train,\n",
    "                              crs = \"EPSG:4326\",\n",
    "                              geometry = gpd.points_from_xy(X_train[\"lon\"],\n",
    "                                                            X_train[\"lat\"])).to_crs(\"EPSG:3347\")\n",
    "              )\n",
    "\n",
    "gdf_X_test = (gpd.GeoDataFrame(X_test,\n",
    "                              crs = \"EPSG:4326\",\n",
    "                              geometry = gpd.points_from_xy(X_test[\"lon\"],\n",
    "                                                            X_test[\"lat\"])).to_crs(\"EPSG:3347\")\n",
    "              )"
   ]
  },
  {
   "cell_type": "code",
   "execution_count": 9,
   "id": "c9b24f09-d5eb-42b0-973a-dead9256f900",
   "metadata": {},
   "outputs": [],
   "source": [
    "X_train[\"x_coord\"], X_train[\"y_coord\"] = gdf_X_train.geometry.x, gdf_X_train.geometry.y\n",
    "X_test[\"x_coord\"], X_test[\"y_coord\"] = gdf_X_test.geometry.x, gdf_X_test.geometry.y"
   ]
  },
  {
   "cell_type": "markdown",
   "id": "1d6eec88-4365-4193-8603-bef3e3695761",
   "metadata": {},
   "source": [
    "### Interpolation to estimate the water index over a grid"
   ]
  },
  {
   "cell_type": "code",
   "execution_count": 10,
   "id": "69f25d3a-090e-47d5-b8c9-2dc933fa615b",
   "metadata": {},
   "outputs": [
    {
     "data": {
      "text/html": [
       "<div>\n",
       "<style scoped>\n",
       "    .dataframe tbody tr th:only-of-type {\n",
       "        vertical-align: middle;\n",
       "    }\n",
       "\n",
       "    .dataframe tbody tr th {\n",
       "        vertical-align: top;\n",
       "    }\n",
       "\n",
       "    .dataframe thead th {\n",
       "        text-align: right;\n",
       "    }\n",
       "</style>\n",
       "<table border=\"1\" class=\"dataframe\">\n",
       "  <thead>\n",
       "    <tr style=\"text-align: right;\">\n",
       "      <th></th>\n",
       "      <th>lat</th>\n",
       "      <th>lon</th>\n",
       "      <th>n_asset</th>\n",
       "      <th>asset_index</th>\n",
       "      <th>sobel_pca1</th>\n",
       "      <th>sobel_pca2</th>\n",
       "      <th>sobel_pca3</th>\n",
       "      <th>geometry</th>\n",
       "    </tr>\n",
       "  </thead>\n",
       "  <tbody>\n",
       "    <tr>\n",
       "      <th>0</th>\n",
       "      <td>9.165413</td>\n",
       "      <td>92.742696</td>\n",
       "      <td>22.0</td>\n",
       "      <td>2.650768</td>\n",
       "      <td>-207.802754</td>\n",
       "      <td>-2.021971</td>\n",
       "      <td>-1.862787</td>\n",
       "      <td>POINT (2551907.049 15108041.751)</td>\n",
       "    </tr>\n",
       "    <tr>\n",
       "      <th>1</th>\n",
       "      <td>8.307356</td>\n",
       "      <td>93.093792</td>\n",
       "      <td>22.0</td>\n",
       "      <td>2.157784</td>\n",
       "      <td>-196.246327</td>\n",
       "      <td>-60.889409</td>\n",
       "      <td>-23.256221</td>\n",
       "      <td>POINT (2451664.804 15210695.801)</td>\n",
       "    </tr>\n",
       "    <tr>\n",
       "      <th>2</th>\n",
       "      <td>7.016968</td>\n",
       "      <td>93.893226</td>\n",
       "      <td>21.0</td>\n",
       "      <td>1.832751</td>\n",
       "      <td>-168.521367</td>\n",
       "      <td>-6.896665</td>\n",
       "      <td>-7.399880</td>\n",
       "      <td>POINT (2257888.199 15349398.107)</td>\n",
       "    </tr>\n",
       "    <tr>\n",
       "      <th>3</th>\n",
       "      <td>9.194938</td>\n",
       "      <td>92.800432</td>\n",
       "      <td>22.0</td>\n",
       "      <td>2.746096</td>\n",
       "      <td>-131.789259</td>\n",
       "      <td>-40.208361</td>\n",
       "      <td>12.582586</td>\n",
       "      <td>POINT (2545424.158 15100513.415)</td>\n",
       "    </tr>\n",
       "    <tr>\n",
       "      <th>4</th>\n",
       "      <td>8.055606</td>\n",
       "      <td>93.543892</td>\n",
       "      <td>22.0</td>\n",
       "      <td>2.581869</td>\n",
       "      <td>-204.735020</td>\n",
       "      <td>25.329997</td>\n",
       "      <td>9.203700</td>\n",
       "      <td>POINT (2371993.236 15220167.066)</td>\n",
       "    </tr>\n",
       "  </tbody>\n",
       "</table>\n",
       "</div>"
      ],
      "text/plain": [
       "        lat        lon  n_asset  asset_index  sobel_pca1  sobel_pca2  \\\n",
       "0  9.165413  92.742696     22.0     2.650768 -207.802754   -2.021971   \n",
       "1  8.307356  93.093792     22.0     2.157784 -196.246327  -60.889409   \n",
       "2  7.016968  93.893226     21.0     1.832751 -168.521367   -6.896665   \n",
       "3  9.194938  92.800432     22.0     2.746096 -131.789259  -40.208361   \n",
       "4  8.055606  93.543892     22.0     2.581869 -204.735020   25.329997   \n",
       "\n",
       "   sobel_pca3                          geometry  \n",
       "0   -1.862787  POINT (2551907.049 15108041.751)  \n",
       "1  -23.256221  POINT (2451664.804 15210695.801)  \n",
       "2   -7.399880  POINT (2257888.199 15349398.107)  \n",
       "3   12.582586  POINT (2545424.158 15100513.415)  \n",
       "4    9.203700  POINT (2371993.236 15220167.066)  "
      ]
     },
     "execution_count": 10,
     "metadata": {},
     "output_type": "execute_result"
    }
   ],
   "source": [
    "gdf_X_train.head()"
   ]
  },
  {
   "cell_type": "code",
   "execution_count": 11,
   "id": "f5acc2de-bcd2-4a06-8d49-c07c4f3b75cb",
   "metadata": {},
   "outputs": [],
   "source": [
    "resolution = 250000  # cell size in meters, smaller cell size = smaller pixel = higher resolution \n",
    "gridx = np.arange(gdf_X_train.bounds.minx.min(), gdf_X_train.bounds.maxx.max(), resolution)\n",
    "gridy = np.arange(gdf_X_train.bounds.miny.min(), gdf_X_train.bounds.maxy.max(), resolution)"
   ]
  },
  {
   "cell_type": "code",
   "execution_count": 12,
   "id": "ee75a5c0-e855-4420-ae7f-51af7adce373",
   "metadata": {},
   "outputs": [
    {
     "data": {
      "text/html": [
       "<div>\n",
       "<style scoped>\n",
       "    .dataframe tbody tr th:only-of-type {\n",
       "        vertical-align: middle;\n",
       "    }\n",
       "\n",
       "    .dataframe tbody tr th {\n",
       "        vertical-align: top;\n",
       "    }\n",
       "\n",
       "    .dataframe thead th {\n",
       "        text-align: right;\n",
       "    }\n",
       "</style>\n",
       "<table border=\"1\" class=\"dataframe\">\n",
       "  <thead>\n",
       "    <tr style=\"text-align: right;\">\n",
       "      <th></th>\n",
       "      <th>lat</th>\n",
       "      <th>lon</th>\n",
       "      <th>n_asset</th>\n",
       "      <th>asset_index</th>\n",
       "      <th>sobel_pca1</th>\n",
       "      <th>sobel_pca2</th>\n",
       "      <th>sobel_pca3</th>\n",
       "      <th>geometry</th>\n",
       "    </tr>\n",
       "  </thead>\n",
       "  <tbody>\n",
       "    <tr>\n",
       "      <th>0</th>\n",
       "      <td>9.165413</td>\n",
       "      <td>92.742696</td>\n",
       "      <td>22.0</td>\n",
       "      <td>2.650768</td>\n",
       "      <td>-207.802754</td>\n",
       "      <td>-2.021971</td>\n",
       "      <td>-1.862787</td>\n",
       "      <td>POINT (2551907.049 15108041.751)</td>\n",
       "    </tr>\n",
       "    <tr>\n",
       "      <th>1</th>\n",
       "      <td>8.307356</td>\n",
       "      <td>93.093792</td>\n",
       "      <td>22.0</td>\n",
       "      <td>2.157784</td>\n",
       "      <td>-196.246327</td>\n",
       "      <td>-60.889409</td>\n",
       "      <td>-23.256221</td>\n",
       "      <td>POINT (2451664.804 15210695.801)</td>\n",
       "    </tr>\n",
       "    <tr>\n",
       "      <th>2</th>\n",
       "      <td>7.016968</td>\n",
       "      <td>93.893226</td>\n",
       "      <td>21.0</td>\n",
       "      <td>1.832751</td>\n",
       "      <td>-168.521367</td>\n",
       "      <td>-6.896665</td>\n",
       "      <td>-7.399880</td>\n",
       "      <td>POINT (2257888.199 15349398.107)</td>\n",
       "    </tr>\n",
       "    <tr>\n",
       "      <th>3</th>\n",
       "      <td>9.194938</td>\n",
       "      <td>92.800432</td>\n",
       "      <td>22.0</td>\n",
       "      <td>2.746096</td>\n",
       "      <td>-131.789259</td>\n",
       "      <td>-40.208361</td>\n",
       "      <td>12.582586</td>\n",
       "      <td>POINT (2545424.158 15100513.415)</td>\n",
       "    </tr>\n",
       "    <tr>\n",
       "      <th>4</th>\n",
       "      <td>8.055606</td>\n",
       "      <td>93.543892</td>\n",
       "      <td>22.0</td>\n",
       "      <td>2.581869</td>\n",
       "      <td>-204.735020</td>\n",
       "      <td>25.329997</td>\n",
       "      <td>9.203700</td>\n",
       "      <td>POINT (2371993.236 15220167.066)</td>\n",
       "    </tr>\n",
       "  </tbody>\n",
       "</table>\n",
       "</div>"
      ],
      "text/plain": [
       "        lat        lon  n_asset  asset_index  sobel_pca1  sobel_pca2  \\\n",
       "0  9.165413  92.742696     22.0     2.650768 -207.802754   -2.021971   \n",
       "1  8.307356  93.093792     22.0     2.157784 -196.246327  -60.889409   \n",
       "2  7.016968  93.893226     21.0     1.832751 -168.521367   -6.896665   \n",
       "3  9.194938  92.800432     22.0     2.746096 -131.789259  -40.208361   \n",
       "4  8.055606  93.543892     22.0     2.581869 -204.735020   25.329997   \n",
       "\n",
       "   sobel_pca3                          geometry  \n",
       "0   -1.862787  POINT (2551907.049 15108041.751)  \n",
       "1  -23.256221  POINT (2451664.804 15210695.801)  \n",
       "2   -7.399880  POINT (2257888.199 15349398.107)  \n",
       "3   12.582586  POINT (2545424.158 15100513.415)  \n",
       "4    9.203700  POINT (2371993.236 15220167.066)  "
      ]
     },
     "execution_count": 12,
     "metadata": {},
     "output_type": "execute_result"
    }
   ],
   "source": [
    "gdf_X_train.head()"
   ]
  },
  {
   "cell_type": "code",
   "execution_count": 13,
   "id": "a8b6d2fc-0655-40e2-baa1-c8724b6f0d32",
   "metadata": {},
   "outputs": [
    {
     "data": {
      "image/png": "[encoded data removed]",
      "text/plain": [
       "<Figure size 640x480 with 1 Axes>"
      ]
     },
     "metadata": {},
     "output_type": "display_data"
    }
   ],
   "source": [
    "model = NearestNDInterpolator(x = list(zip(X_train[\"x_coord\"], X_train[\"y_coord\"])),\n",
    "                              y = y_train)\n",
    "z = model(*np.meshgrid(gridx, gridy))\n",
    "plt.imshow(z);"
   ]
  },
  {
   "cell_type": "markdown",
   "id": "65d0da04-96ef-4bd7-8d87-33e163731d4e",
   "metadata": {},
   "source": [
    "The interpolation is pretty messy"
   ]
  },
  {
   "cell_type": "markdown",
   "id": "85f241bb-d8d2-44c2-b7df-7254819cf101",
   "metadata": {},
   "source": [
    "### Creating a Variogram to see spatial autocorrelation"
   ]
  },
  {
   "cell_type": "code",
   "execution_count": null,
   "id": "4b71ff92-4e2d-4cff-a588-e8a99f6834b5",
   "metadata": {},
   "outputs": [],
   "source": []
  },
  {
   "cell_type": "code",
   "execution_count": 25,
   "id": "f67ef5e2-7fd8-4f9c-8990-955ea7f2229d",
   "metadata": {},
   "outputs": [
    {
     "data": {
      "image/png": "[encoded data removed]",
      "text/plain": [
       "<Figure size 800x600 with 1 Axes>"
      ]
     },
     "metadata": {},
     "output_type": "display_data"
    }
   ],
   "source": [
    "warnings.filterwarnings(\"ignore\")  # Silence some warnings\n",
    "vario = Variogram(coordinates=X_train[[\"x_coord\", \"y_coord\"]].astype('float32'),\n",
    "                  values=y_train,\n",
    "                  n_lags=20)\n",
    "vario.distance_difference_plot();"
   ]
  },
  {
   "cell_type": "code",
   "execution_count": 15,
   "id": "8aea8221-a7ef-45db-b340-8a0bcd2db960",
   "metadata": {},
   "outputs": [
    {
     "data": {
      "image/png": "[encoded data removed]",
      "text/plain": [
       "<Figure size 640x480 with 1 Axes>"
      ]
     },
     "metadata": {},
     "output_type": "display_data"
    }
   ],
   "source": [
    "krig = OrdinaryKriging(x=X_train[\"x_coord\"], y=X_train[\"y_coord\"], z=y_train, variogram_model=\"spherical\")\n",
    "z, ss = krig.execute(\"grid\", gridx, gridy)\n",
    "plt.imshow(z);"
   ]
  },
  {
   "cell_type": "code",
   "execution_count": 37,
   "id": "0775552c-8b6b-4ba3-8942-22fc1732caaa",
   "metadata": {},
   "outputs": [
    {
     "data": {
      "image/png": "[encoded data removed]",
      "text/plain": [
       "<Figure size 640x480 with 1 Axes>"
      ]
     },
     "metadata": {},
     "output_type": "display_data"
    }
   ],
   "source": [
    "plt.imshow(ss);"
   ]
  },
  {
   "cell_type": "code",
   "execution_count": 59,
   "id": "d8353a84-7c0f-4a68-a531-b0aa24af8fe3",
   "metadata": {},
   "outputs": [
    {
     "ename": "TypeError",
     "evalue": "Invalid shape (18722,) for image data",
     "output_type": "error",
     "traceback": [
      "\u001b[1;31m---------------------------------------------------------------------------\u001b[0m",
      "\u001b[1;31mTypeError\u001b[0m                                 Traceback (most recent call last)",
      "Cell \u001b[1;32mIn[59], line 2\u001b[0m\n\u001b[0;32m      1\u001b[0m z_train, ss_train \u001b[38;5;241m=\u001b[39m krig\u001b[38;5;241m.\u001b[39mexecute(\u001b[38;5;124m\"\u001b[39m\u001b[38;5;124mpoints\u001b[39m\u001b[38;5;124m\"\u001b[39m, X_train[\u001b[38;5;124m\"\u001b[39m\u001b[38;5;124mx_coord\u001b[39m\u001b[38;5;124m\"\u001b[39m], X_train[\u001b[38;5;124m\"\u001b[39m\u001b[38;5;124my_coord\u001b[39m\u001b[38;5;124m\"\u001b[39m])\n\u001b[1;32m----> 2\u001b[0m \u001b[43mplt\u001b[49m\u001b[38;5;241;43m.\u001b[39;49m\u001b[43mimshow\u001b[49m\u001b[43m(\u001b[49m\u001b[43mz_train\u001b[49m\u001b[43m)\u001b[49m;\n",
      "File \u001b[1;32m~\\miniconda3\\envs\\mds574\\lib\\site-packages\\matplotlib\\pyplot.py:2695\u001b[0m, in \u001b[0;36mimshow\u001b[1;34m(X, cmap, norm, aspect, interpolation, alpha, vmin, vmax, origin, extent, interpolation_stage, filternorm, filterrad, resample, url, data, **kwargs)\u001b[0m\n\u001b[0;32m   2689\u001b[0m \u001b[38;5;129m@_copy_docstring_and_deprecators\u001b[39m(Axes\u001b[38;5;241m.\u001b[39mimshow)\n\u001b[0;32m   2690\u001b[0m \u001b[38;5;28;01mdef\u001b[39;00m \u001b[38;5;21mimshow\u001b[39m(\n\u001b[0;32m   2691\u001b[0m         X, cmap\u001b[38;5;241m=\u001b[39m\u001b[38;5;28;01mNone\u001b[39;00m, norm\u001b[38;5;241m=\u001b[39m\u001b[38;5;28;01mNone\u001b[39;00m, \u001b[38;5;241m*\u001b[39m, aspect\u001b[38;5;241m=\u001b[39m\u001b[38;5;28;01mNone\u001b[39;00m, interpolation\u001b[38;5;241m=\u001b[39m\u001b[38;5;28;01mNone\u001b[39;00m,\n\u001b[0;32m   2692\u001b[0m         alpha\u001b[38;5;241m=\u001b[39m\u001b[38;5;28;01mNone\u001b[39;00m, vmin\u001b[38;5;241m=\u001b[39m\u001b[38;5;28;01mNone\u001b[39;00m, vmax\u001b[38;5;241m=\u001b[39m\u001b[38;5;28;01mNone\u001b[39;00m, origin\u001b[38;5;241m=\u001b[39m\u001b[38;5;28;01mNone\u001b[39;00m, extent\u001b[38;5;241m=\u001b[39m\u001b[38;5;28;01mNone\u001b[39;00m,\n\u001b[0;32m   2693\u001b[0m         interpolation_stage\u001b[38;5;241m=\u001b[39m\u001b[38;5;28;01mNone\u001b[39;00m, filternorm\u001b[38;5;241m=\u001b[39m\u001b[38;5;28;01mTrue\u001b[39;00m, filterrad\u001b[38;5;241m=\u001b[39m\u001b[38;5;241m4.0\u001b[39m,\n\u001b[0;32m   2694\u001b[0m         resample\u001b[38;5;241m=\u001b[39m\u001b[38;5;28;01mNone\u001b[39;00m, url\u001b[38;5;241m=\u001b[39m\u001b[38;5;28;01mNone\u001b[39;00m, data\u001b[38;5;241m=\u001b[39m\u001b[38;5;28;01mNone\u001b[39;00m, \u001b[38;5;241m*\u001b[39m\u001b[38;5;241m*\u001b[39mkwargs):\n\u001b[1;32m-> 2695\u001b[0m     __ret \u001b[38;5;241m=\u001b[39m gca()\u001b[38;5;241m.\u001b[39mimshow(\n\u001b[0;32m   2696\u001b[0m         X, cmap\u001b[38;5;241m=\u001b[39mcmap, norm\u001b[38;5;241m=\u001b[39mnorm, aspect\u001b[38;5;241m=\u001b[39maspect,\n\u001b[0;32m   2697\u001b[0m         interpolation\u001b[38;5;241m=\u001b[39minterpolation, alpha\u001b[38;5;241m=\u001b[39malpha, vmin\u001b[38;5;241m=\u001b[39mvmin,\n\u001b[0;32m   2698\u001b[0m         vmax\u001b[38;5;241m=\u001b[39mvmax, origin\u001b[38;5;241m=\u001b[39morigin, extent\u001b[38;5;241m=\u001b[39mextent,\n\u001b[0;32m   2699\u001b[0m         interpolation_stage\u001b[38;5;241m=\u001b[39minterpolation_stage,\n\u001b[0;32m   2700\u001b[0m         filternorm\u001b[38;5;241m=\u001b[39mfilternorm, filterrad\u001b[38;5;241m=\u001b[39mfilterrad, resample\u001b[38;5;241m=\u001b[39mresample,\n\u001b[0;32m   2701\u001b[0m         url\u001b[38;5;241m=\u001b[39murl, \u001b[38;5;241m*\u001b[39m\u001b[38;5;241m*\u001b[39m({\u001b[38;5;124m\"\u001b[39m\u001b[38;5;124mdata\u001b[39m\u001b[38;5;124m\"\u001b[39m: data} \u001b[38;5;28;01mif\u001b[39;00m data \u001b[38;5;129;01mis\u001b[39;00m \u001b[38;5;129;01mnot\u001b[39;00m \u001b[38;5;28;01mNone\u001b[39;00m \u001b[38;5;28;01melse\u001b[39;00m {}),\n\u001b[0;32m   2702\u001b[0m         \u001b[38;5;241m*\u001b[39m\u001b[38;5;241m*\u001b[39mkwargs)\n\u001b[0;32m   2703\u001b[0m     sci(__ret)\n\u001b[0;32m   2704\u001b[0m     \u001b[38;5;28;01mreturn\u001b[39;00m __ret\n",
      "File \u001b[1;32m~\\miniconda3\\envs\\mds574\\lib\\site-packages\\matplotlib\\__init__.py:1442\u001b[0m, in \u001b[0;36m_preprocess_data.<locals>.inner\u001b[1;34m(ax, data, *args, **kwargs)\u001b[0m\n\u001b[0;32m   1439\u001b[0m \u001b[38;5;129m@functools\u001b[39m\u001b[38;5;241m.\u001b[39mwraps(func)\n\u001b[0;32m   1440\u001b[0m \u001b[38;5;28;01mdef\u001b[39;00m \u001b[38;5;21minner\u001b[39m(ax, \u001b[38;5;241m*\u001b[39margs, data\u001b[38;5;241m=\u001b[39m\u001b[38;5;28;01mNone\u001b[39;00m, \u001b[38;5;241m*\u001b[39m\u001b[38;5;241m*\u001b[39mkwargs):\n\u001b[0;32m   1441\u001b[0m     \u001b[38;5;28;01mif\u001b[39;00m data \u001b[38;5;129;01mis\u001b[39;00m \u001b[38;5;28;01mNone\u001b[39;00m:\n\u001b[1;32m-> 1442\u001b[0m         \u001b[38;5;28;01mreturn\u001b[39;00m func(ax, \u001b[38;5;241m*\u001b[39m\u001b[38;5;28mmap\u001b[39m(sanitize_sequence, args), \u001b[38;5;241m*\u001b[39m\u001b[38;5;241m*\u001b[39mkwargs)\n\u001b[0;32m   1444\u001b[0m     bound \u001b[38;5;241m=\u001b[39m new_sig\u001b[38;5;241m.\u001b[39mbind(ax, \u001b[38;5;241m*\u001b[39margs, \u001b[38;5;241m*\u001b[39m\u001b[38;5;241m*\u001b[39mkwargs)\n\u001b[0;32m   1445\u001b[0m     auto_label \u001b[38;5;241m=\u001b[39m (bound\u001b[38;5;241m.\u001b[39marguments\u001b[38;5;241m.\u001b[39mget(label_namer)\n\u001b[0;32m   1446\u001b[0m                   \u001b[38;5;129;01mor\u001b[39;00m bound\u001b[38;5;241m.\u001b[39mkwargs\u001b[38;5;241m.\u001b[39mget(label_namer))\n",
      "File \u001b[1;32m~\\miniconda3\\envs\\mds574\\lib\\site-packages\\matplotlib\\axes\\_axes.py:5665\u001b[0m, in \u001b[0;36mAxes.imshow\u001b[1;34m(self, X, cmap, norm, aspect, interpolation, alpha, vmin, vmax, origin, extent, interpolation_stage, filternorm, filterrad, resample, url, **kwargs)\u001b[0m\n\u001b[0;32m   5657\u001b[0m \u001b[38;5;28mself\u001b[39m\u001b[38;5;241m.\u001b[39mset_aspect(aspect)\n\u001b[0;32m   5658\u001b[0m im \u001b[38;5;241m=\u001b[39m mimage\u001b[38;5;241m.\u001b[39mAxesImage(\u001b[38;5;28mself\u001b[39m, cmap\u001b[38;5;241m=\u001b[39mcmap, norm\u001b[38;5;241m=\u001b[39mnorm,\n\u001b[0;32m   5659\u001b[0m                       interpolation\u001b[38;5;241m=\u001b[39minterpolation, origin\u001b[38;5;241m=\u001b[39morigin,\n\u001b[0;32m   5660\u001b[0m                       extent\u001b[38;5;241m=\u001b[39mextent, filternorm\u001b[38;5;241m=\u001b[39mfilternorm,\n\u001b[0;32m   5661\u001b[0m                       filterrad\u001b[38;5;241m=\u001b[39mfilterrad, resample\u001b[38;5;241m=\u001b[39mresample,\n\u001b[0;32m   5662\u001b[0m                       interpolation_stage\u001b[38;5;241m=\u001b[39minterpolation_stage,\n\u001b[0;32m   5663\u001b[0m                       \u001b[38;5;241m*\u001b[39m\u001b[38;5;241m*\u001b[39mkwargs)\n\u001b[1;32m-> 5665\u001b[0m \u001b[43mim\u001b[49m\u001b[38;5;241;43m.\u001b[39;49m\u001b[43mset_data\u001b[49m\u001b[43m(\u001b[49m\u001b[43mX\u001b[49m\u001b[43m)\u001b[49m\n\u001b[0;32m   5666\u001b[0m im\u001b[38;5;241m.\u001b[39mset_alpha(alpha)\n\u001b[0;32m   5667\u001b[0m \u001b[38;5;28;01mif\u001b[39;00m im\u001b[38;5;241m.\u001b[39mget_clip_path() \u001b[38;5;129;01mis\u001b[39;00m \u001b[38;5;28;01mNone\u001b[39;00m:\n\u001b[0;32m   5668\u001b[0m     \u001b[38;5;66;03m# image does not already have clipping set, clip to axes patch\u001b[39;00m\n",
      "File \u001b[1;32m~\\miniconda3\\envs\\mds574\\lib\\site-packages\\matplotlib\\image.py:710\u001b[0m, in \u001b[0;36m_ImageBase.set_data\u001b[1;34m(self, A)\u001b[0m\n\u001b[0;32m    706\u001b[0m     \u001b[38;5;28mself\u001b[39m\u001b[38;5;241m.\u001b[39m_A \u001b[38;5;241m=\u001b[39m \u001b[38;5;28mself\u001b[39m\u001b[38;5;241m.\u001b[39m_A[:, :, \u001b[38;5;241m0\u001b[39m]\n\u001b[0;32m    708\u001b[0m \u001b[38;5;28;01mif\u001b[39;00m \u001b[38;5;129;01mnot\u001b[39;00m (\u001b[38;5;28mself\u001b[39m\u001b[38;5;241m.\u001b[39m_A\u001b[38;5;241m.\u001b[39mndim \u001b[38;5;241m==\u001b[39m \u001b[38;5;241m2\u001b[39m\n\u001b[0;32m    709\u001b[0m         \u001b[38;5;129;01mor\u001b[39;00m \u001b[38;5;28mself\u001b[39m\u001b[38;5;241m.\u001b[39m_A\u001b[38;5;241m.\u001b[39mndim \u001b[38;5;241m==\u001b[39m \u001b[38;5;241m3\u001b[39m \u001b[38;5;129;01mand\u001b[39;00m \u001b[38;5;28mself\u001b[39m\u001b[38;5;241m.\u001b[39m_A\u001b[38;5;241m.\u001b[39mshape[\u001b[38;5;241m-\u001b[39m\u001b[38;5;241m1\u001b[39m] \u001b[38;5;129;01min\u001b[39;00m [\u001b[38;5;241m3\u001b[39m, \u001b[38;5;241m4\u001b[39m]):\n\u001b[1;32m--> 710\u001b[0m     \u001b[38;5;28;01mraise\u001b[39;00m \u001b[38;5;167;01mTypeError\u001b[39;00m(\u001b[38;5;124m\"\u001b[39m\u001b[38;5;124mInvalid shape \u001b[39m\u001b[38;5;132;01m{}\u001b[39;00m\u001b[38;5;124m for image data\u001b[39m\u001b[38;5;124m\"\u001b[39m\n\u001b[0;32m    711\u001b[0m                     \u001b[38;5;241m.\u001b[39mformat(\u001b[38;5;28mself\u001b[39m\u001b[38;5;241m.\u001b[39m_A\u001b[38;5;241m.\u001b[39mshape))\n\u001b[0;32m    713\u001b[0m \u001b[38;5;28;01mif\u001b[39;00m \u001b[38;5;28mself\u001b[39m\u001b[38;5;241m.\u001b[39m_A\u001b[38;5;241m.\u001b[39mndim \u001b[38;5;241m==\u001b[39m \u001b[38;5;241m3\u001b[39m:\n\u001b[0;32m    714\u001b[0m     \u001b[38;5;66;03m# If the input data has values outside the valid range (after\u001b[39;00m\n\u001b[0;32m    715\u001b[0m     \u001b[38;5;66;03m# normalisation), we issue a warning and then clip X to the bounds\u001b[39;00m\n\u001b[0;32m    716\u001b[0m     \u001b[38;5;66;03m# - otherwise casting wraps extreme values, hiding outliers and\u001b[39;00m\n\u001b[0;32m    717\u001b[0m     \u001b[38;5;66;03m# making reliable interpretation impossible.\u001b[39;00m\n\u001b[0;32m    718\u001b[0m     high \u001b[38;5;241m=\u001b[39m \u001b[38;5;241m255\u001b[39m \u001b[38;5;28;01mif\u001b[39;00m np\u001b[38;5;241m.\u001b[39missubdtype(\u001b[38;5;28mself\u001b[39m\u001b[38;5;241m.\u001b[39m_A\u001b[38;5;241m.\u001b[39mdtype, np\u001b[38;5;241m.\u001b[39minteger) \u001b[38;5;28;01melse\u001b[39;00m \u001b[38;5;241m1\u001b[39m\n",
      "\u001b[1;31mTypeError\u001b[0m: Invalid shape (18722,) for image data"
     ]
    },
    {
     "data": {
      "image/png": "[encoded data removed]",
      "text/plain": [
       "<Figure size 640x480 with 1 Axes>"
      ]
     },
     "metadata": {},
     "output_type": "display_data"
    }
   ],
   "source": [
    "z_train, ss_train = krig.execute(\"points\", X_train[\"x_coord\"], X_train[\"y_coord\"])"
   ]
  },
  {
   "cell_type": "code",
   "execution_count": 66,
   "id": "128b3ec5-6c8e-486d-af59-e0585f8c183d",
   "metadata": {},
   "outputs": [],
   "source": [
    "z_test, ss_test = krig.execute(\"points\", X_test[\"x_coord\"], X_test[\"y_coord\"])"
   ]
  },
  {
   "cell_type": "code",
   "execution_count": 67,
   "id": "9d4b8a1b-3f74-4e08-b642-3ff4b2275ab4",
   "metadata": {},
   "outputs": [
    {
     "data": {
      "text/plain": [
       "masked_array(data=[4.968648404118405, 4.895404645405417,\n",
       "                   4.612592518196164, ..., 4.4839075450852866,\n",
       "                   4.422129281541567, 4.399041631818637],\n",
       "             mask=[False, False, False, ..., False, False, False],\n",
       "       fill_value=1e+20)"
      ]
     },
     "execution_count": 67,
     "metadata": {},
     "output_type": "execute_result"
    }
   ],
   "source": [
    "z_test"
   ]
  },
  {
   "cell_type": "code",
   "execution_count": 80,
   "id": "e13cfd1b-7e48-4f78-9819-5adbcf8962a2",
   "metadata": {},
   "outputs": [],
   "source": [
    "# export the predictions\n",
    "pd.DataFrame(z_test.data, columns = ['Krigging_prediction']).to_csv('Krigging_prediction.csv')\n"
   ]
  },
  {
   "cell_type": "code",
   "execution_count": null,
   "id": "9cb60057-9df9-402c-88de-a3e6190e77f1",
   "metadata": {},
   "outputs": [],
   "source": []
  }
 ],
 "metadata": {
  "kernelspec": {
   "display_name": "Python [conda env:mds574]",
   "language": "python",
   "name": "conda-env-mds574-py"
  },
  "language_info": {
   "codemirror_mode": {
    "name": "ipython",
    "version": 3
   },
   "file_extension": ".py",
   "mimetype": "text/x-python",
   "name": "python",
   "nbconvert_exporter": "python",
   "pygments_lexer": "ipython3",
   "version": "3.10.9"
  }
 },
 "nbformat": 4,
 "nbformat_minor": 5
}
